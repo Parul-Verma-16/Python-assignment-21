{
 "cells": [
  {
   "cell_type": "markdown",
   "id": "7ad0d115",
   "metadata": {},
   "source": [
    "## 1) Add the current date to the text file today.txt as a string.\n"
   ]
  },
  {
   "cell_type": "code",
   "execution_count": 3,
   "id": "141e304b",
   "metadata": {},
   "outputs": [
    {
     "name": "stdout",
     "output_type": "stream",
     "text": [
      "Date added to today.txt file.\n"
     ]
    }
   ],
   "source": [
    "import datetime\n",
    "\n",
    "# Get the current date\n",
    "current_date = datetime.date.today().strftime(\"%Y-%m-%d\")\n",
    "\n",
    "# Append the current date to the file\n",
    "with open(\"today.txt\", \"a\") as file:\n",
    "    file.write(current_date + \"\\n\")\n",
    "\n",
    "print(\"Date added to today.txt file.\")"
   ]
  },
  {
   "cell_type": "markdown",
   "id": "5959bfc3",
   "metadata": {},
   "source": [
    "## 2) Read the text file today.txt into the string today_string"
   ]
  },
  {
   "cell_type": "code",
   "execution_count": 5,
   "id": "285f5570",
   "metadata": {},
   "outputs": [
    {
     "name": "stdout",
     "output_type": "stream",
     "text": [
      "2023-07-03\n",
      "2023-07-03\n",
      "2023-07-03\n",
      "\n"
     ]
    }
   ],
   "source": [
    "with open(\"today.txt\", \"r\") as file:\n",
    "    today_string = file.read()\n",
    "\n",
    "print(today_string)"
   ]
  },
  {
   "cell_type": "markdown",
   "id": "e2778a75",
   "metadata": {},
   "source": [
    "## 3) Parse the date from today_string."
   ]
  },
  {
   "cell_type": "code",
   "execution_count": 7,
   "id": "093de60c",
   "metadata": {},
   "outputs": [
    {
     "name": "stdout",
     "output_type": "stream",
     "text": [
      "2023-07-03\n"
     ]
    }
   ],
   "source": [
    "import datetime\n",
    "\n",
    "today_string = \"2023-07-03\"\n",
    "\n",
    "# Parse the date from the today_string\n",
    "parsed_date = datetime.datetime.strptime(today_string, \"%Y-%m-%d\").date()\n",
    "\n",
    "print(parsed_date)"
   ]
  },
  {
   "cell_type": "markdown",
   "id": "18dcd6f5",
   "metadata": {},
   "source": [
    "## 4) List the files in your current directory"
   ]
  },
  {
   "cell_type": "code",
   "execution_count": 8,
   "id": "4b5a83ff",
   "metadata": {},
   "outputs": [
    {
     "name": "stdout",
     "output_type": "stream",
     "text": [
      ".bash_history\n",
      ".conda\n",
      ".condarc\n",
      ".continuum\n",
      ".ipynb_checkpoints\n",
      ".ipython\n",
      ".jupyter\n",
      ".matplotlib\n",
      "3D Objects\n",
      "anaconda3\n",
      "AppData\n",
      "Application Data\n",
      "bluebook-for-bulldozers.zip\n",
      "books.csv\n",
      "books.db\n",
      "car-sales-extended-missing-data.csv\n",
      "car-sales-extended.csv\n",
      "car-sales-missing-data.csv\n",
      "car-sales.csv\n",
      "Contacts\n",
      "Cookies\n",
      "Data science assignment.ipynb\n",
      "Documents\n",
      "Downloads\n",
      "end-to-end-bluebook-bulldozer-price-regression.ipynb\n",
      "end-to-end-heart-disease-classification.ipynb\n",
      "exported-car-sales.csv\n",
      "exported-patient-data.csv\n",
      "Favorites\n",
      "heart-disease.csv\n",
      "Heart_Disease_Classification.ipynb\n",
      "Links\n",
      "Local Settings\n",
      "Microsoft\n",
      "Mock test PPT.ipynb\n",
      "Music\n",
      "My Documents\n",
      "NetHood\n",
      "NTUSER.DAT\n",
      "ntuser.dat.LOG1\n",
      "ntuser.dat.LOG2\n",
      "NTUSER.DAT{a2332f18-cdbf-11ec-8680-002248483d79}.TM.blf\n",
      "NTUSER.DAT{a2332f18-cdbf-11ec-8680-002248483d79}.TMContainer00000000000000000001.regtrans-ms\n",
      "NTUSER.DAT{a2332f18-cdbf-11ec-8680-002248483d79}.TMContainer00000000000000000002.regtrans-ms\n",
      "ntuser.ini\n",
      "OneDrive\n",
      "PrintHood\n",
      "Python Assignment 1 .ipynb\n",
      "Python assignment 10.ipynb\n",
      "Python assignment 13.ipynb\n",
      "Python assignment 14.ipynb\n",
      "Python assignment 15.ipynb\n",
      "Python assignment 2.ipynb\n",
      "Python assignment 20.ipynb\n",
      "Python assignment 5.ipynb\n",
      "Python assignment 8.ipynb\n",
      "Python assignment 9.ipynb\n",
      "Recent\n",
      "Saved Games\n",
      "Searches\n",
      "SendTo\n",
      "Start Menu\n",
      "Templates\n",
      "Test.csv\n",
      "test.txt\n",
      "today.txt\n",
      "TrainAndValid.csv\n",
      "train_tmp.csv\n",
      "Untitled.ipynb\n",
      "Videos\n"
     ]
    }
   ],
   "source": [
    "import os\n",
    "\n",
    "# Get the current directory\n",
    "current_directory = os.getcwd()\n",
    "\n",
    "# List the files in the current directory\n",
    "file_list = os.listdir(current_directory)\n",
    "\n",
    "# Print the file names\n",
    "for file_name in file_list:\n",
    "    print(file_name)"
   ]
  },
  {
   "cell_type": "markdown",
   "id": "c7123ffb",
   "metadata": {},
   "source": [
    "## 5) Create a list of all of the files in your parent directory (minimum five files should be available)."
   ]
  },
  {
   "cell_type": "code",
   "execution_count": 9,
   "id": "e87c1d01",
   "metadata": {},
   "outputs": [
    {
     "name": "stdout",
     "output_type": "stream",
     "text": [
      "All Users\n",
      "Default\n",
      "Default User\n",
      "desktop.ini\n",
      "parul\n",
      "Public\n"
     ]
    }
   ],
   "source": [
    "import os\n",
    "\n",
    "# Get the parent directory\n",
    "parent_directory = os.path.dirname(os.getcwd())\n",
    "\n",
    "# List the files in the parent directory\n",
    "file_list = os.listdir(parent_directory)\n",
    "\n",
    "# Print the file names\n",
    "for file_name in file_list:\n",
    "    print(file_name)"
   ]
  },
  {
   "cell_type": "markdown",
   "id": "be766863",
   "metadata": {},
   "source": [
    "## 6) Use multiprocessing to create three separate processes. Make each one wait a random number of seconds between one and five, print the current time, and then exit."
   ]
  },
  {
   "cell_type": "code",
   "execution_count": 13,
   "id": "2cef995f",
   "metadata": {},
   "outputs": [],
   "source": [
    "import multiprocessing\n",
    "import random\n",
    "import time\n",
    "from datetime import datetime\n",
    "\n",
    "# Function to execute in each process\n",
    "def process_func():\n",
    "    wait_time = random.randint(1, 5)  # Generate a random wait time between 1 and 5 seconds\n",
    "    time.sleep(wait_time)  # Wait for the generated time\n",
    "    current_time = datetime.now().strftime(\"%Y-%m-%d %H:%M:%S\")  # Get the current time\n",
    "    print(f\"Process {multiprocessing.current_process().name}: Current time is {current_time}\")\n",
    "\n",
    "if __name__ == \"__main__\":\n",
    "    # Create three separate processes\n",
    "    processes = []\n",
    "    for i in range(3):\n",
    "        process = multiprocessing.Process(target=process_func)\n",
    "        process.start()\n",
    "        processes.append(process)\n",
    "\n",
    "    # Wait for all processes to finish\n",
    "    for process in processes:\n",
    "        process.join()"
   ]
  },
  {
   "cell_type": "markdown",
   "id": "48a0d214",
   "metadata": {},
   "source": [
    "## 7) Create a date object of your day of birth."
   ]
  },
  {
   "cell_type": "code",
   "execution_count": 16,
   "id": "f71e2d97",
   "metadata": {},
   "outputs": [
    {
     "name": "stdout",
     "output_type": "stream",
     "text": [
      "1995-07-16\n"
     ]
    }
   ],
   "source": [
    "import datetime\n",
    "\n",
    "# Create a date object for a specific day\n",
    "birthday = datetime.date(1995, 7, 16)\n",
    "\n",
    "print(birthday)"
   ]
  },
  {
   "cell_type": "markdown",
   "id": "f1c8f287",
   "metadata": {},
   "source": [
    "## 8) What day of the week was your day of birth?"
   ]
  },
  {
   "cell_type": "code",
   "execution_count": 17,
   "id": "588756f0",
   "metadata": {},
   "outputs": [
    {
     "name": "stdout",
     "output_type": "stream",
     "text": [
      "Sunday\n"
     ]
    }
   ],
   "source": [
    "import datetime\n",
    "\n",
    "# Create a date object for a specific day\n",
    "birthday = datetime.date(1995, 7, 16)\n",
    "\n",
    "# Determine the day of the week\n",
    "day_of_week = birthday.strftime(\"%A\")\n",
    "\n",
    "print(day_of_week)"
   ]
  },
  {
   "cell_type": "markdown",
   "id": "e17032e8",
   "metadata": {},
   "source": [
    "## 9) When will you be (or when were you) 10,000 days old?"
   ]
  },
  {
   "cell_type": "code",
   "execution_count": 18,
   "id": "b40397a1",
   "metadata": {},
   "outputs": [
    {
     "name": "stdout",
     "output_type": "stream",
     "text": [
      "2022-12-01\n"
     ]
    }
   ],
   "source": [
    "import datetime\n",
    "\n",
    "# Starting date\n",
    "start_date = datetime.date(1995, 7, 16)\n",
    "\n",
    "# Calculate the date that is 10,000 days from the starting date\n",
    "target_date = start_date + datetime.timedelta(days=10000)\n",
    "\n",
    "print(target_date)"
   ]
  }
 ],
 "metadata": {
  "kernelspec": {
   "display_name": "Python 3 (ipykernel)",
   "language": "python",
   "name": "python3"
  },
  "language_info": {
   "codemirror_mode": {
    "name": "ipython",
    "version": 3
   },
   "file_extension": ".py",
   "mimetype": "text/x-python",
   "name": "python",
   "nbconvert_exporter": "python",
   "pygments_lexer": "ipython3",
   "version": "3.9.13"
  }
 },
 "nbformat": 4,
 "nbformat_minor": 5
}
